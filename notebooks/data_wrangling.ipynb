{
 "cells": [
  {
   "cell_type": "raw",
   "id": "ce6ff84d",
   "metadata": {
    "vscode": {
     "languageId": "raw"
    }
   },
   "source": [
    "---\n",
    "title: \"Data wrangling\"\n",
    "format:\n",
    "  html:\n",
    "    toc: true\n",
    "    toc-expand: true\n",
    "    code-fold: true\n",
    "    code-summary: \"Show code\"\n",
    "---"
   ]
  },
  {
   "cell_type": "markdown",
   "id": "d632dc95",
   "metadata": {},
   "source": [
    "## Modifying public data\n",
    "\n",
    "The paper uses an `.Rdata` file that is not publicly available - that is a set of 10 separate dataframes per product (i.e. category). See Table 1 in the paper for a summary stats by product.\n",
    "\n",
    "Each category's dataframe has the following variables:\n",
    "- period, Date format e.g. \"2021-06-01\"\n",
    "- price, num format\n",
    "- volume, num format\n",
    "- value, num format\n",
    "- id, Factor format\n",
    "\n",
    "Requirements for the data that is used by TPD:\n",
    "\n",
    "\n"
   ]
  },
  {
   "cell_type": "code",
   "execution_count": null,
   "id": "59c3c4ce",
   "metadata": {},
   "outputs": [],
   "source": []
  }
 ],
 "metadata": {
  "language_info": {
   "name": "python"
  }
 },
 "nbformat": 4,
 "nbformat_minor": 5
}
