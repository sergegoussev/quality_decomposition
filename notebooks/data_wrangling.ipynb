{
 "cells": [
  {
   "cell_type": "raw",
   "id": "ce6ff84d",
   "metadata": {
    "vscode": {
     "languageId": "raw"
    }
   },
   "source": [
    "---\n",
    "title: \"Data wrangling\"\n",
    "format:\n",
    "  html:\n",
    "    toc: true\n",
    "    toc-expand: true\n",
    "    code-fold: true\n",
    "    code-summary: \"Show code\"\n",
    "---"
   ]
  },
  {
   "cell_type": "markdown",
   "id": "0f5e6f75",
   "metadata": {},
   "source": [
    "This notebook modifies the wrangling step to work with open data. The paper depends on an `.Rdata` file (that is not publicly available) that contains  a set of 10 separate dataframes per product (i.e. category) -- see Table 1 in the paper for a summary stats by product. To work with the [open New Zealand data](https://code.officialstatistics.org/scanner-task-team-gwg/FEWS_package/-/blob/master/data/SampleDataSet.csv?ref_type=heads) that is similar - I modified the wrangling step."
   ]
  },
  {
   "cell_type": "code",
   "execution_count": null,
   "id": "374c5f4e",
   "metadata": {
    "vscode": {
     "languageId": "r"
    }
   },
   "outputs": [
    {
     "name": "stderr",
     "output_type": "stream",
     "text": [
      "── \u001b[1mAttaching core tidyverse packages\u001b[22m ──────────────────────── tidyverse 2.0.0 ──\n",
      "\u001b[32m✔\u001b[39m \u001b[34mdplyr    \u001b[39m 1.1.4     \u001b[32m✔\u001b[39m \u001b[34mreadr    \u001b[39m 2.1.5\n",
      "\u001b[32m✔\u001b[39m \u001b[34mforcats  \u001b[39m 1.0.1     \u001b[32m✔\u001b[39m \u001b[34mstringr  \u001b[39m 1.5.2\n",
      "\u001b[32m✔\u001b[39m \u001b[34mggplot2  \u001b[39m 4.0.0     \u001b[32m✔\u001b[39m \u001b[34mtibble   \u001b[39m 3.3.0\n",
      "\u001b[32m✔\u001b[39m \u001b[34mlubridate\u001b[39m 1.9.4     \u001b[32m✔\u001b[39m \u001b[34mtidyr    \u001b[39m 1.3.1\n",
      "\u001b[32m✔\u001b[39m \u001b[34mpurrr    \u001b[39m 1.1.0     \n",
      "── \u001b[1mConflicts\u001b[22m ────────────────────────────────────────── tidyverse_conflicts() ──\n",
      "\u001b[31m✖\u001b[39m \u001b[34mdplyr\u001b[39m::\u001b[32mfilter()\u001b[39m masks \u001b[34mstats\u001b[39m::filter()\n",
      "\u001b[31m✖\u001b[39m \u001b[34mdplyr\u001b[39m::\u001b[32mlag()\u001b[39m    masks \u001b[34mstats\u001b[39m::lag()\n",
      "\u001b[36mℹ\u001b[39m Use the conflicted package (\u001b[3m\u001b[34m<http://conflicted.r-lib.org/>\u001b[39m\u001b[23m) to force all conflicts to become errors\n"
     ]
    }
   ],
   "source": [
    "# | echo: false\n",
    "# | warning: false\n",
    "# | output: false\n",
    "\n",
    "library(tidyverse)"
   ]
  },
  {
   "cell_type": "markdown",
   "id": "d632dc95",
   "metadata": {},
   "source": [
    "## 1. Overview of requirements\n",
    "\n",
    "### Research expected input\n",
    "\n",
    "The `.Rdata` file contains 10 dataframes - each has the following variables:\n",
    "- `period`, Date format e.g. \"2021-06-01\"\n",
    "- `price`, num format\n",
    "- `volume`, num format\n",
    "- `value`, num format\n",
    "- `id`, Factor format\n",
    "\n",
    "### Data input that is available \n",
    "\n",
    "The `csv` dataset is a little different:\n",
    "* `month_num`\n",
    "* `char1` - `char11` (11 char variables of various kinds) \n",
    "* `prodid_num`\n",
    "* `quantity`\n",
    "* `value`\n",
    "\n",
    "We don't have a `price` variable but it may be applicable to make it from `value/quantity` (although this is an assumption). See the fuller [dataset exploration](https://sergegoussev.github.io/price_stats_experiments/notebooks/nz_electronics_2019.html) for more info.  \n",
    "\n",
    "### Steps to take\n",
    "\n",
    "The wrangling script [qualdecomp_1wrangle.R](https://github.com/sergegoussev/quality_decomposition/blob/main/R/qualdecomp_1wrangle.R) takes each and computes the following:\n",
    "1. Calculate expenditure shares per product as a proportion of the total expenditure on all products.\n",
    "2. Derives the log of price\n",
    "3. Makes the period a factor for the TPD\n"
   ]
  },
  {
   "cell_type": "markdown",
   "id": "7f1bced3",
   "metadata": {},
   "source": [
    "## Replicating the process with another dataset\n",
    "\n",
    "The following steps are then followed in order to replicate the wrangling process with the open NZ data.\n",
    "\n",
    "### Step 1a. Load the raw data"
   ]
  },
  {
   "cell_type": "code",
   "execution_count": null,
   "id": "59c3c4ce",
   "metadata": {
    "vscode": {
     "languageId": "r"
    }
   },
   "outputs": [
    {
     "data": {
      "text/html": [
       "<table class=\"dataframe\">\n",
       "<caption>A data.frame: 6 × 15</caption>\n",
       "<thead>\n",
       "\t<tr><th></th><th scope=col>month_num</th><th scope=col>char11</th><th scope=col>char1</th><th scope=col>char2</th><th scope=col>char3</th><th scope=col>char4</th><th scope=col>char5</th><th scope=col>char6</th><th scope=col>char7</th><th scope=col>char8</th><th scope=col>char9</th><th scope=col>char10</th><th scope=col>prodid_num</th><th scope=col>quantity</th><th scope=col>value</th></tr>\n",
       "\t<tr><th></th><th scope=col>&lt;chr&gt;</th><th scope=col>&lt;chr&gt;</th><th scope=col>&lt;dbl&gt;</th><th scope=col>&lt;int&gt;</th><th scope=col>&lt;chr&gt;</th><th scope=col>&lt;chr&gt;</th><th scope=col>&lt;chr&gt;</th><th scope=col>&lt;chr&gt;</th><th scope=col>&lt;chr&gt;</th><th scope=col>&lt;chr&gt;</th><th scope=col>&lt;chr&gt;</th><th scope=col>&lt;chr&gt;</th><th scope=col>&lt;int&gt;</th><th scope=col>&lt;int&gt;</th><th scope=col>&lt;int&gt;</th></tr>\n",
       "</thead>\n",
       "<tbody>\n",
       "\t<tr><th scope=row>1</th><td>2017-01-01</td><td>brand_a</td><td>10.6</td><td>16006</td><td>val_w</td><td>val_a</td><td>val_a</td><td>PRG566</td><td>CCC</td><td>150D</td><td>B230</td><td>ted</td><td>3</td><td>280</td><td>196420</td></tr>\n",
       "\t<tr><th scope=row>2</th><td>2017-02-01</td><td>brand_a</td><td>10.6</td><td>16006</td><td>val_w</td><td>val_a</td><td>val_a</td><td>PRG566</td><td>CCC</td><td>150D</td><td>B230</td><td>ted</td><td>3</td><td>126</td><td> 85312</td></tr>\n",
       "\t<tr><th scope=row>3</th><td>2017-03-01</td><td>brand_a</td><td>10.6</td><td>16006</td><td>val_w</td><td>val_a</td><td>val_a</td><td>PRG566</td><td>CCC</td><td>150D</td><td>B230</td><td>ted</td><td>3</td><td>148</td><td> 95920</td></tr>\n",
       "\t<tr><th scope=row>4</th><td>2017-04-01</td><td>brand_a</td><td>10.6</td><td>16006</td><td>val_w</td><td>val_a</td><td>val_a</td><td>PRG566</td><td>CCC</td><td>150D</td><td>B230</td><td>ted</td><td>3</td><td> 56</td><td> 38552</td></tr>\n",
       "\t<tr><th scope=row>5</th><td>2017-05-01</td><td>brand_a</td><td>10.6</td><td>16006</td><td>val_w</td><td>val_a</td><td>val_a</td><td>PRG566</td><td>CCC</td><td>150D</td><td>B230</td><td>ted</td><td>3</td><td> 69</td><td> 47397</td></tr>\n",
       "\t<tr><th scope=row>6</th><td>2017-06-01</td><td>brand_a</td><td>10.6</td><td>16006</td><td>val_w</td><td>val_a</td><td>val_a</td><td>PRG566</td><td>CCC</td><td>150D</td><td>B230</td><td>ted</td><td>3</td><td> 43</td><td> 28303</td></tr>\n",
       "</tbody>\n",
       "</table>\n"
      ],
      "text/latex": [
       "A data.frame: 6 × 15\n",
       "\\begin{tabular}{r|lllllllllllllll}\n",
       "  & month\\_num & char11 & char1 & char2 & char3 & char4 & char5 & char6 & char7 & char8 & char9 & char10 & prodid\\_num & quantity & value\\\\\n",
       "  & <chr> & <chr> & <dbl> & <int> & <chr> & <chr> & <chr> & <chr> & <chr> & <chr> & <chr> & <chr> & <int> & <int> & <int>\\\\\n",
       "\\hline\n",
       "\t1 & 2017-01-01 & brand\\_a & 10.6 & 16006 & val\\_w & val\\_a & val\\_a & PRG566 & CCC & 150D & B230 & ted & 3 & 280 & 196420\\\\\n",
       "\t2 & 2017-02-01 & brand\\_a & 10.6 & 16006 & val\\_w & val\\_a & val\\_a & PRG566 & CCC & 150D & B230 & ted & 3 & 126 &  85312\\\\\n",
       "\t3 & 2017-03-01 & brand\\_a & 10.6 & 16006 & val\\_w & val\\_a & val\\_a & PRG566 & CCC & 150D & B230 & ted & 3 & 148 &  95920\\\\\n",
       "\t4 & 2017-04-01 & brand\\_a & 10.6 & 16006 & val\\_w & val\\_a & val\\_a & PRG566 & CCC & 150D & B230 & ted & 3 &  56 &  38552\\\\\n",
       "\t5 & 2017-05-01 & brand\\_a & 10.6 & 16006 & val\\_w & val\\_a & val\\_a & PRG566 & CCC & 150D & B230 & ted & 3 &  69 &  47397\\\\\n",
       "\t6 & 2017-06-01 & brand\\_a & 10.6 & 16006 & val\\_w & val\\_a & val\\_a & PRG566 & CCC & 150D & B230 & ted & 3 &  43 &  28303\\\\\n",
       "\\end{tabular}\n"
      ],
      "text/markdown": [
       "\n",
       "A data.frame: 6 × 15\n",
       "\n",
       "| <!--/--> | month_num &lt;chr&gt; | char11 &lt;chr&gt; | char1 &lt;dbl&gt; | char2 &lt;int&gt; | char3 &lt;chr&gt; | char4 &lt;chr&gt; | char5 &lt;chr&gt; | char6 &lt;chr&gt; | char7 &lt;chr&gt; | char8 &lt;chr&gt; | char9 &lt;chr&gt; | char10 &lt;chr&gt; | prodid_num &lt;int&gt; | quantity &lt;int&gt; | value &lt;int&gt; |\n",
       "|---|---|---|---|---|---|---|---|---|---|---|---|---|---|---|---|\n",
       "| 1 | 2017-01-01 | brand_a | 10.6 | 16006 | val_w | val_a | val_a | PRG566 | CCC | 150D | B230 | ted | 3 | 280 | 196420 |\n",
       "| 2 | 2017-02-01 | brand_a | 10.6 | 16006 | val_w | val_a | val_a | PRG566 | CCC | 150D | B230 | ted | 3 | 126 |  85312 |\n",
       "| 3 | 2017-03-01 | brand_a | 10.6 | 16006 | val_w | val_a | val_a | PRG566 | CCC | 150D | B230 | ted | 3 | 148 |  95920 |\n",
       "| 4 | 2017-04-01 | brand_a | 10.6 | 16006 | val_w | val_a | val_a | PRG566 | CCC | 150D | B230 | ted | 3 |  56 |  38552 |\n",
       "| 5 | 2017-05-01 | brand_a | 10.6 | 16006 | val_w | val_a | val_a | PRG566 | CCC | 150D | B230 | ted | 3 |  69 |  47397 |\n",
       "| 6 | 2017-06-01 | brand_a | 10.6 | 16006 | val_w | val_a | val_a | PRG566 | CCC | 150D | B230 | ted | 3 |  43 |  28303 |\n",
       "\n"
      ],
      "text/plain": [
       "  month_num  char11  char1 char2 char3 char4 char5 char6  char7 char8 char9\n",
       "1 2017-01-01 brand_a 10.6  16006 val_w val_a val_a PRG566 CCC   150D  B230 \n",
       "2 2017-02-01 brand_a 10.6  16006 val_w val_a val_a PRG566 CCC   150D  B230 \n",
       "3 2017-03-01 brand_a 10.6  16006 val_w val_a val_a PRG566 CCC   150D  B230 \n",
       "4 2017-04-01 brand_a 10.6  16006 val_w val_a val_a PRG566 CCC   150D  B230 \n",
       "5 2017-05-01 brand_a 10.6  16006 val_w val_a val_a PRG566 CCC   150D  B230 \n",
       "6 2017-06-01 brand_a 10.6  16006 val_w val_a val_a PRG566 CCC   150D  B230 \n",
       "  char10 prodid_num quantity value \n",
       "1 ted    3          280      196420\n",
       "2 ted    3          126       85312\n",
       "3 ted    3          148       95920\n",
       "4 ted    3           56       38552\n",
       "5 ted    3           69       47397\n",
       "6 ted    3           43       28303"
      ]
     },
     "metadata": {},
     "output_type": "display_data"
    }
   ],
   "source": [
    "#| echo: true\n",
    "\n",
    "alldata <- read.csv(\"../data/raw/NZ_dataset_historic_raw.csv\", header = TRUE)\n",
    "head(alldata)"
   ]
  },
  {
   "cell_type": "markdown",
   "id": "938721be",
   "metadata": {},
   "source": [
    "### Step 1b. Format data to be by product"
   ]
  },
  {
   "cell_type": "code",
   "execution_count": 35,
   "id": "1566a483",
   "metadata": {
    "vscode": {
     "languageId": "r"
    }
   },
   "outputs": [
    {
     "data": {
      "text/html": [
       "<table class=\"dataframe\">\n",
       "<caption>A data.frame: 6 × 5</caption>\n",
       "<thead>\n",
       "\t<tr><th></th><th scope=col>period</th><th scope=col>i</th><th scope=col>quantity</th><th scope=col>expenditure</th><th scope=col>price</th></tr>\n",
       "\t<tr><th></th><th scope=col>&lt;chr&gt;</th><th scope=col>&lt;int&gt;</th><th scope=col>&lt;int&gt;</th><th scope=col>&lt;int&gt;</th><th scope=col>&lt;dbl&gt;</th></tr>\n",
       "</thead>\n",
       "<tbody>\n",
       "\t<tr><th scope=row>1</th><td>2017-01-01</td><td>3</td><td>280</td><td>196420</td><td>701.5000</td></tr>\n",
       "\t<tr><th scope=row>2</th><td>2017-02-01</td><td>3</td><td>126</td><td> 85312</td><td>677.0794</td></tr>\n",
       "\t<tr><th scope=row>3</th><td>2017-03-01</td><td>3</td><td>148</td><td> 95920</td><td>648.1081</td></tr>\n",
       "\t<tr><th scope=row>4</th><td>2017-04-01</td><td>3</td><td> 56</td><td> 38552</td><td>688.4286</td></tr>\n",
       "\t<tr><th scope=row>5</th><td>2017-05-01</td><td>3</td><td> 69</td><td> 47397</td><td>686.9130</td></tr>\n",
       "\t<tr><th scope=row>6</th><td>2017-06-01</td><td>3</td><td> 43</td><td> 28303</td><td>658.2093</td></tr>\n",
       "</tbody>\n",
       "</table>\n"
      ],
      "text/latex": [
       "A data.frame: 6 × 5\n",
       "\\begin{tabular}{r|lllll}\n",
       "  & period & i & quantity & expenditure & price\\\\\n",
       "  & <chr> & <int> & <int> & <int> & <dbl>\\\\\n",
       "\\hline\n",
       "\t1 & 2017-01-01 & 3 & 280 & 196420 & 701.5000\\\\\n",
       "\t2 & 2017-02-01 & 3 & 126 &  85312 & 677.0794\\\\\n",
       "\t3 & 2017-03-01 & 3 & 148 &  95920 & 648.1081\\\\\n",
       "\t4 & 2017-04-01 & 3 &  56 &  38552 & 688.4286\\\\\n",
       "\t5 & 2017-05-01 & 3 &  69 &  47397 & 686.9130\\\\\n",
       "\t6 & 2017-06-01 & 3 &  43 &  28303 & 658.2093\\\\\n",
       "\\end{tabular}\n"
      ],
      "text/markdown": [
       "\n",
       "A data.frame: 6 × 5\n",
       "\n",
       "| <!--/--> | period &lt;chr&gt; | i &lt;int&gt; | quantity &lt;int&gt; | expenditure &lt;int&gt; | price &lt;dbl&gt; |\n",
       "|---|---|---|---|---|---|\n",
       "| 1 | 2017-01-01 | 3 | 280 | 196420 | 701.5000 |\n",
       "| 2 | 2017-02-01 | 3 | 126 |  85312 | 677.0794 |\n",
       "| 3 | 2017-03-01 | 3 | 148 |  95920 | 648.1081 |\n",
       "| 4 | 2017-04-01 | 3 |  56 |  38552 | 688.4286 |\n",
       "| 5 | 2017-05-01 | 3 |  69 |  47397 | 686.9130 |\n",
       "| 6 | 2017-06-01 | 3 |  43 |  28303 | 658.2093 |\n",
       "\n"
      ],
      "text/plain": [
       "  period     i quantity expenditure price   \n",
       "1 2017-01-01 3 280      196420      701.5000\n",
       "2 2017-02-01 3 126       85312      677.0794\n",
       "3 2017-03-01 3 148       95920      648.1081\n",
       "4 2017-04-01 3  56       38552      688.4286\n",
       "5 2017-05-01 3  69       47397      686.9130\n",
       "6 2017-06-01 3  43       28303      658.2093"
      ]
     },
     "metadata": {},
     "output_type": "display_data"
    }
   ],
   "source": [
    "#| echo: true\n",
    "\n",
    "product <- alldata %>%\n",
    "    subset(select = c(month_num, prodid_num, quantity, value)) %>%\n",
    "    mutate(expenditure = value) %>%\n",
    "    mutate(price = value/quantity) %>%\n",
    "    subset(select = -c(value)) %>%\n",
    "    rename(i = prodid_num, period = month_num)\n",
    "head(product)"
   ]
  },
  {
   "cell_type": "markdown",
   "id": "eff46373",
   "metadata": {},
   "source": [
    "### Step 2. Get the expenditure shares, log prices, and factor periods"
   ]
  },
  {
   "cell_type": "code",
   "execution_count": 36,
   "id": "a79fd86d",
   "metadata": {
    "vscode": {
     "languageId": "r"
    }
   },
   "outputs": [
    {
     "data": {
      "text/html": [
       "<table class=\"dataframe\">\n",
       "<caption>A data.frame: 6 × 7</caption>\n",
       "<thead>\n",
       "\t<tr><th></th><th scope=col>period</th><th scope=col>i</th><th scope=col>quantity</th><th scope=col>expenditure</th><th scope=col>price</th><th scope=col>exp_share</th><th scope=col>logprice</th></tr>\n",
       "\t<tr><th></th><th scope=col>&lt;fct&gt;</th><th scope=col>&lt;int&gt;</th><th scope=col>&lt;int&gt;</th><th scope=col>&lt;int&gt;</th><th scope=col>&lt;dbl&gt;</th><th scope=col>&lt;dbl&gt;</th><th scope=col>&lt;dbl&gt;</th></tr>\n",
       "</thead>\n",
       "<tbody>\n",
       "\t<tr><th scope=row>1</th><td>2017-01-01</td><td>   3</td><td>280</td><td>196420</td><td> 701.5000</td><td>1.562999e-02</td><td>6.553221</td></tr>\n",
       "\t<tr><th scope=row>2</th><td>2017-01-01</td><td> 366</td><td>  1</td><td>  1009</td><td>1009.0000</td><td>8.029052e-05</td><td>6.916715</td></tr>\n",
       "\t<tr><th scope=row>3</th><td>2017-01-01</td><td>1004</td><td> 33</td><td> 52688</td><td>1596.6061</td><td>4.192614e-03</td><td>7.375635</td></tr>\n",
       "\t<tr><th scope=row>4</th><td>2017-01-01</td><td>1004</td><td>  1</td><td>  1221</td><td>1221.0000</td><td>9.716029e-05</td><td>7.107425</td></tr>\n",
       "\t<tr><th scope=row>5</th><td>2017-01-01</td><td> 741</td><td>230</td><td>305802</td><td>1329.5739</td><td>2.433400e-02</td><td>7.192614</td></tr>\n",
       "\t<tr><th scope=row>6</th><td>2017-01-01</td><td> 943</td><td> 99</td><td> 85891</td><td> 867.5859</td><td>6.834721e-03</td><td>6.765714</td></tr>\n",
       "</tbody>\n",
       "</table>\n"
      ],
      "text/latex": [
       "A data.frame: 6 × 7\n",
       "\\begin{tabular}{r|lllllll}\n",
       "  & period & i & quantity & expenditure & price & exp\\_share & logprice\\\\\n",
       "  & <fct> & <int> & <int> & <int> & <dbl> & <dbl> & <dbl>\\\\\n",
       "\\hline\n",
       "\t1 & 2017-01-01 &    3 & 280 & 196420 &  701.5000 & 1.562999e-02 & 6.553221\\\\\n",
       "\t2 & 2017-01-01 &  366 &   1 &   1009 & 1009.0000 & 8.029052e-05 & 6.916715\\\\\n",
       "\t3 & 2017-01-01 & 1004 &  33 &  52688 & 1596.6061 & 4.192614e-03 & 7.375635\\\\\n",
       "\t4 & 2017-01-01 & 1004 &   1 &   1221 & 1221.0000 & 9.716029e-05 & 7.107425\\\\\n",
       "\t5 & 2017-01-01 &  741 & 230 & 305802 & 1329.5739 & 2.433400e-02 & 7.192614\\\\\n",
       "\t6 & 2017-01-01 &  943 &  99 &  85891 &  867.5859 & 6.834721e-03 & 6.765714\\\\\n",
       "\\end{tabular}\n"
      ],
      "text/markdown": [
       "\n",
       "A data.frame: 6 × 7\n",
       "\n",
       "| <!--/--> | period &lt;fct&gt; | i &lt;int&gt; | quantity &lt;int&gt; | expenditure &lt;int&gt; | price &lt;dbl&gt; | exp_share &lt;dbl&gt; | logprice &lt;dbl&gt; |\n",
       "|---|---|---|---|---|---|---|---|\n",
       "| 1 | 2017-01-01 |    3 | 280 | 196420 |  701.5000 | 1.562999e-02 | 6.553221 |\n",
       "| 2 | 2017-01-01 |  366 |   1 |   1009 | 1009.0000 | 8.029052e-05 | 6.916715 |\n",
       "| 3 | 2017-01-01 | 1004 |  33 |  52688 | 1596.6061 | 4.192614e-03 | 7.375635 |\n",
       "| 4 | 2017-01-01 | 1004 |   1 |   1221 | 1221.0000 | 9.716029e-05 | 7.107425 |\n",
       "| 5 | 2017-01-01 |  741 | 230 | 305802 | 1329.5739 | 2.433400e-02 | 7.192614 |\n",
       "| 6 | 2017-01-01 |  943 |  99 |  85891 |  867.5859 | 6.834721e-03 | 6.765714 |\n",
       "\n"
      ],
      "text/plain": [
       "  period     i    quantity expenditure price     exp_share    logprice\n",
       "1 2017-01-01    3 280      196420       701.5000 1.562999e-02 6.553221\n",
       "2 2017-01-01  366   1        1009      1009.0000 8.029052e-05 6.916715\n",
       "3 2017-01-01 1004  33       52688      1596.6061 4.192614e-03 7.375635\n",
       "4 2017-01-01 1004   1        1221      1221.0000 9.716029e-05 7.107425\n",
       "5 2017-01-01  741 230      305802      1329.5739 2.433400e-02 7.192614\n",
       "6 2017-01-01  943  99       85891       867.5859 6.834721e-03 6.765714"
      ]
     },
     "metadata": {},
     "output_type": "display_data"
    }
   ],
   "source": [
    "#| echo: true\n",
    "\n",
    "tot_exps <- product %>%\n",
    "  group_by(period) %>%\n",
    "  summarise(tot_exp = sum(expenditure))\n",
    "\n",
    "product_s_l <- merge(product, tot_exps, by = \"period\", all = TRUE) %>%\n",
    "  mutate(exp_share = expenditure/tot_exp,\n",
    "         logprice = log(price)) %>%\n",
    "  subset(select = -c(tot_exp)) \n",
    "\n",
    "product_s_l$period <- as.factor(product_s_l$period)\n",
    "\n",
    "head(product_s_l)"
   ]
  },
  {
   "cell_type": "markdown",
   "id": "8a7be73a",
   "metadata": {},
   "source": [
    "### Save the processed data\n",
    "\n",
    "To help replicate other aspects of the research - save the processed dataset to `/data/processed/`. "
   ]
  },
  {
   "cell_type": "code",
   "execution_count": 58,
   "id": "7104105f",
   "metadata": {
    "vscode": {
     "languageId": "r"
    }
   },
   "outputs": [],
   "source": [
    "write.csv(product_s_l, \"../data/processed/product_s_1_raw.csv\", row.names = FALSE)"
   ]
  }
 ],
 "metadata": {
  "kernelspec": {
   "display_name": "R",
   "language": "R",
   "name": "ir"
  },
  "language_info": {
   "codemirror_mode": "r",
   "file_extension": ".r",
   "mimetype": "text/x-r-source",
   "name": "R",
   "pygments_lexer": "r",
   "version": "4.5.1"
  }
 },
 "nbformat": 4,
 "nbformat_minor": 5
}
